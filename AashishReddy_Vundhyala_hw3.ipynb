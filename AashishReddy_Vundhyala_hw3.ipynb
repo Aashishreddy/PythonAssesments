{
 "cells": [
  {
   "cell_type": "code",
   "execution_count": 3,
   "metadata": {},
   "outputs": [
    {
     "name": "stdout",
     "output_type": "stream",
     "text": [
      "Please enter a string: si\n",
      "si\n"
     ]
    }
   ],
   "source": [
    "str1 = input(\"Please enter a string: \")\n",
    "if(len(str1) < 3):\n",
    "    print(str1)\n",
    "else:\n",
    "    if(str1[-1:-4:-1] == \"gni\"):\n",
    "        print(str1 + \"ly\")\n",
    "    else:\n",
    "        print(str1 + \"ing\")\n",
    "    "
   ]
  },
  {
   "cell_type": "code",
   "execution_count": 2,
   "metadata": {},
   "outputs": [
    {
     "name": "stdout",
     "output_type": "stream",
     "text": [
      "It is True that list  [1, 2, [3, 4]]  has a sublist in it\n",
      "It is False that list  ['a', 'b', 'c', 'd']  has a sublist in it\n",
      "It is False that list  [1, 2, ('a', 'b')]  has a sublist in it\n"
     ]
    }
   ],
   "source": [
    "def _sublist(result):\n",
    "    \n",
    "    count = 0\n",
    "    \n",
    "    for i in result:\n",
    "        if(type(i) == list):\n",
    "            print(\"It is True that list \",result,\" has a sublist in it\")\n",
    "            count+=1\n",
    "    \n",
    "    if(count == 0):\n",
    "        print(\"It is False that list \",result,\" has a sublist in it\")\n",
    "            \n",
    "list1 = [1, 2, [3, 4]]\n",
    "list2 = ['a', 'b', 'c', 'd']\n",
    "list3 = [1, 2,('a', 'b')]\n",
    "_sublist(list1)\n",
    "_sublist(list2)\n",
    "_sublist(list3)"
   ]
  },
  {
   "cell_type": "code",
   "execution_count": 4,
   "metadata": {},
   "outputs": [
    {
     "name": "stdout",
     "output_type": "stream",
     "text": [
      "['a1', 'a2', 'a3', 'a4', 'a5', 'b1', 'b2', 'b3', 'b4', 'b5', 'c1', 'c2', 'c3', 'c4', 'c5', 'd1', 'd2', 'd3', 'd4', 'd5']\n"
     ]
    }
   ],
   "source": [
    "list1 = ['a', 'b', 'c', 'd']\n",
    "n = 5\n",
    "list2 = []\n",
    "for i in list1:\n",
    "    for j in range(1,n+1):\n",
    "        list2.append(i + str(j))\n",
    "        \n",
    "print(list2)        \n"
   ]
  },
  {
   "cell_type": "code",
   "execution_count": 6,
   "metadata": {},
   "outputs": [
    {
     "name": "stdout",
     "output_type": "stream",
     "text": [
      "Enter a sequence of words: good,say,yes,no\n",
      "['good', 'no', 'say', 'yes']\n"
     ]
    }
   ],
   "source": [
    "str1 = input(\"Enter a sequence of words: \")\n",
    "if(\",\" not in str1):\n",
    "    print(\"The sequence is not seperated by commas\")\n",
    "else:    \n",
    "    list = str1.split(\",\")\n",
    "    unique_list = []\n",
    "    for x in list:\n",
    "        if(x not in unique_list):\n",
    "            unique_list.append(x)\n",
    "    unique_list.sort()\n",
    "    print(unique_list)        \n"
   ]
  },
  {
   "cell_type": "code",
   "execution_count": 7,
   "metadata": {},
   "outputs": [
    {
     "name": "stdout",
     "output_type": "stream",
     "text": [
      "My initial list is:  [1, 3, 7, 9, 11, 13, 17, 19, 21, 23, 27, 29]\n",
      "My Step-2 list is:  [-3, -6, -9, -12, -15, -18, -21, -24, -27, -30]\n",
      "The sum of positive elements in Step-2 list is:  0\n"
     ]
    }
   ],
   "source": [
    "list1 = []\n",
    "for i in range(1,31):\n",
    "    if(i%2 != 0 and i%5 != 0):\n",
    "        list1.append(i)\n",
    "print(\"My initial list is: \",list1)\n",
    "\n",
    "list2 = []\n",
    "for i in range(1,31):\n",
    "    if(i%3 == 0):\n",
    "        list2.append(-1*i)\n",
    "print(\"My Step-2 list is: \",list2)       \n",
    "\n",
    "sum = 0\n",
    "for i in list2:\n",
    "    if(i > 0):\n",
    "        sum = sum + i\n",
    "print(\"The sum of positive elements in Step-2 list is: \",sum)        \n",
    "        \n",
    "            "
   ]
  },
  {
   "cell_type": "code",
   "execution_count": null,
   "metadata": {},
   "outputs": [],
   "source": []
  }
 ],
 "metadata": {
  "kernelspec": {
   "display_name": "Python 3",
   "language": "python",
   "name": "python3"
  },
  "language_info": {
   "codemirror_mode": {
    "name": "ipython",
    "version": 3
   },
   "file_extension": ".py",
   "mimetype": "text/x-python",
   "name": "python",
   "nbconvert_exporter": "python",
   "pygments_lexer": "ipython3",
   "version": "3.8.5"
  }
 },
 "nbformat": 4,
 "nbformat_minor": 4
}
