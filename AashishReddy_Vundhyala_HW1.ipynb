{
 "cells": [
  {
   "cell_type": "code",
   "execution_count": 1,
   "metadata": {},
   "outputs": [
    {
     "name": "stdout",
     "output_type": "stream",
     "text": [
      "Please enter the first number: 3\n",
      "Please enter the second number: 4\n",
      "Please enter the third number: 5.5\n",
      "The sum of three numbers is  12.5\n",
      "-65576.525\n",
      "<class 'float'>\n",
      "a\n",
      "b\n",
      "c\n",
      "d\n",
      "e\n",
      "f\n",
      "g\n",
      "False\n",
      "True\n",
      "False\n",
      "The statement that string 'good' is in string 'thatisnotbad' is False\n",
      "The statement that string 'good' is in string 'thisisgood' is True\n",
      "The statement that string 'good' is in string 'thatisnotbad' and string 'thisisgood' is False\n",
      "The amount of money Joe paid for the stock  32870.0\n",
      "The amount of commission Joe paid his broker when he bought the stock  657.4\n",
      "The amount that Joe sold the stock for  33920.0\n",
      "The amount of commission Joe paid his broker when he sold the stock 678.4\n",
      "The amount of profit or loss that Joe made after the purchase and sale of the stock 1050.0\n"
     ]
    }
   ],
   "source": [
    "#1\n",
    "x = int(input(\"Please enter the first number: \"))\n",
    "y = int(input(\"Please enter the second number: \"))\n",
    "z = float(input(\"Please enter the third number: \"))\n",
    "print(\"The sum of three numbers is \", x+y+z)\n",
    "\n",
    "#2\n",
    "a = 12\n",
    "b = 16\n",
    "result = a/b * 15.3 - 16**4 - 84 + 96/3\n",
    "print(result)\n",
    "print(type(result))\n",
    "\n",
    "#3\n",
    "list1 = ['a', 'b', 'c', 'd', 'e', 'f', 'g']\n",
    "for i in list1:\n",
    "    print(i)\n",
    "\n",
    "#4\n",
    "print('good' in 'thatisnotbad')\n",
    "print('good' in 'thisisgood')\n",
    "print('good' in 'thatisnotbad' and 'good' in 'thisisgood')\n",
    "\n",
    "print(\"The statement that string 'good' is in string 'thatisnotbad' is\", 'good' in 'thatisnotbad')\n",
    "print(\"The statement that string 'good' is in string 'thisisgood' is\", 'good' in 'thisisgood')\n",
    "print(\"The statement that string 'good' is in string 'thatisnotbad' and string 'thisisgood' is\",\n",
    "      'good' in 'thatisnotbad' and 'good' in 'thisisgood')\n",
    "\n",
    "#5\n",
    "shares_joe = 1000\n",
    "buying_price = 32.87\n",
    "bought = shares_joe * buying_price\n",
    "print(\"The amount of money Joe paid for the stock \",bought)\n",
    "commission1 = bought * 2/100\n",
    "print(\"The amount of commission Joe paid his broker when he bought the stock \",commission1)\n",
    "\n",
    "selling_price = 33.92\n",
    "sold = shares_joe * selling_price\n",
    "print(\"The amount that Joe sold the stock for \",sold)\n",
    "commission2 = sold * 2/100\n",
    "print(\"The amount of commission Joe paid his broker when he sold the stock\",commission2)\n",
    "\n",
    "profit = sold - bought\n",
    "print(\"The amount of profit or loss that Joe made after the purchase and sale of the stock\", profit)\n",
    "\n"
   ]
  },
  {
   "cell_type": "code",
   "execution_count": null,
   "metadata": {},
   "outputs": [],
   "source": []
  }
 ],
 "metadata": {
  "kernelspec": {
   "display_name": "Python 3",
   "language": "python",
   "name": "python3"
  },
  "language_info": {
   "codemirror_mode": {
    "name": "ipython",
    "version": 3
   },
   "file_extension": ".py",
   "mimetype": "text/x-python",
   "name": "python",
   "nbconvert_exporter": "python",
   "pygments_lexer": "ipython3",
   "version": "3.8.5"
  }
 },
 "nbformat": 4,
 "nbformat_minor": 4
}
