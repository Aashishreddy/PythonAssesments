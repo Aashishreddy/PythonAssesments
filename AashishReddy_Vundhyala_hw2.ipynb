{
 "cells": [
  {
   "cell_type": "code",
   "execution_count": 1,
   "metadata": {},
   "outputs": [
    {
     "name": "stdout",
     "output_type": "stream",
     "text": [
      "Enter a positive integer: 10\n",
      "The sum of the first 10 positive integers is 55\n"
     ]
    }
   ],
   "source": [
    "# 1.\n",
    "\n",
    "n = int(input(\"Enter a positive integer: \"))\n",
    "if(n <= 0):\n",
    "    print(\"You have entered an invalid number. Exiting the program.\")\n",
    "if(n > 0):\n",
    "    sum = n*(n+1)/2\n",
    "    sum1 = int(sum)\n",
    "    print(\"The sum of the first\",n, \"positive integers is\",sum1)"
   ]
  },
  {
   "cell_type": "code",
   "execution_count": 2,
   "metadata": {},
   "outputs": [
    {
     "name": "stdout",
     "output_type": "stream",
     "text": [
      "Enter a positive integer: 11\n",
      "11 is a prime number\n"
     ]
    }
   ],
   "source": [
    "# 2.\n",
    "\n",
    "n = int(input(\"Enter a positive integer: \"))\n",
    "if(n < 0):\n",
    "    print(\"You have entered an invalid number. Exiting the program.\")\n",
    "if(n == 0 or n == 1):\n",
    "    print(n,\"is neither prime nor composite\")\n",
    "if(n > 1):\n",
    "    for i in range(2,n):\n",
    "        if(n%i == 0):\n",
    "            print(n,\"is a composite number\")\n",
    "            break\n",
    "    else:\n",
    "        print(n,\"is a prime number\")\n",
    "        \n",
    "        "
   ]
  },
  {
   "cell_type": "code",
   "execution_count": 5,
   "metadata": {},
   "outputs": [
    {
     "name": "stdout",
     "output_type": "stream",
     "text": [
      "Enter x1: 0\n",
      "Enter y1: 0\n",
      "Enter x2: 5\n",
      "Enter y2: 5\n",
      "Enter x: 2\n",
      "Enter y: 3\n"
     ]
    },
    {
     "data": {
      "text/plain": [
       "True"
      ]
     },
     "execution_count": 5,
     "metadata": {},
     "output_type": "execute_result"
    }
   ],
   "source": [
    "# 3.\n",
    "#handling both int and float input\n",
    "\n",
    "x1 = input(\"Enter x1: \")\n",
    "if '.' in x1:\n",
    "    x1 = float(x1)\n",
    "else:\n",
    "    x1 = int(x1)\n",
    "\n",
    "y1 = input(\"Enter y1: \")\n",
    "if '.' in y1:\n",
    "    y1 = float(y1)\n",
    "else:\n",
    "    y1= int(y1)\n",
    "\n",
    "x2 = input(\"Enter x2: \")\n",
    "if '.' in x2:\n",
    "    x2 = float(x2)\n",
    "else:\n",
    "    x2 = int(x2)\n",
    "\n",
    "y2 = input(\"Enter y2: \")\n",
    "if '.' in y2:\n",
    "    y2 = float(y2)\n",
    "else:\n",
    "    y2 = int(y2)\n",
    "    \n",
    "def rect():\n",
    "    if(x1 == x2 or y1 == y2):\n",
    "        print(\"You have entered two points that fail to create a rectangle. Exiting the program\")\n",
    "        return\n",
    "    \n",
    "    x = input(\"Enter x: \")\n",
    "    if '.' in x:\n",
    "        x = float(x)\n",
    "    else:\n",
    "        x = int(x)\n",
    "    y = input(\"Enter y: \")\n",
    "    if '.' in y:\n",
    "        y = float(y)\n",
    "    else:\n",
    "        y = int(y)\n",
    "        \n",
    "    if((x1< x < x2 or x2< x< x1) and (y1< y< y2 or y2< y< y1)):\n",
    "            return True\n",
    "    else:\n",
    "        return False\n",
    "        \n",
    "rect()\n",
    "    "
   ]
  },
  {
   "cell_type": "markdown",
   "metadata": {},
   "source": [
    "### "
   ]
  },
  {
   "cell_type": "code",
   "execution_count": 4,
   "metadata": {},
   "outputs": [
    {
     "name": "stdout",
     "output_type": "stream",
     "text": [
      "Enter a positive integer: 5\n",
      "The square of 1 is 1\n",
      "The square of 2 is 4\n",
      "The square of 3 is 9\n",
      "The square of 4 is 16\n",
      "The square of 5 is 25\n"
     ]
    }
   ],
   "source": [
    "# 4.\n",
    "\n",
    "def print_square():\n",
    "    n = int(input(\"Enter a positive integer: \"))\n",
    "    if(n <= 0):\n",
    "        print(\"You have entered an invalid number. Exiting the program.\")\n",
    "        return\n",
    "    if(n >= 1 ):\n",
    "        for i in range(1,n+1):\n",
    "            print(\"The square of\",i,\"is\",i*i)\n",
    "\n",
    "def main():\n",
    "    print_square()\n",
    "if __name__ == \"__main__\":\n",
    "    main()\n",
    "    \n",
    "    \n",
    "\n",
    "    "
   ]
  },
  {
   "cell_type": "code",
   "execution_count": null,
   "metadata": {},
   "outputs": [],
   "source": []
  },
  {
   "cell_type": "code",
   "execution_count": 1,
   "metadata": {},
   "outputs": [
    {
     "name": "stdout",
     "output_type": "stream",
     "text": [
      "\n"
     ]
    }
   ],
   "source": []
  },
  {
   "cell_type": "code",
   "execution_count": null,
   "metadata": {},
   "outputs": [],
   "source": []
  }
 ],
 "metadata": {
  "kernelspec": {
   "display_name": "Python 3",
   "language": "python",
   "name": "python3"
  },
  "language_info": {
   "codemirror_mode": {
    "name": "ipython",
    "version": 3
   },
   "file_extension": ".py",
   "mimetype": "text/x-python",
   "name": "python",
   "nbconvert_exporter": "python",
   "pygments_lexer": "ipython3",
   "version": "3.8.5"
  }
 },
 "nbformat": 4,
 "nbformat_minor": 4
}
